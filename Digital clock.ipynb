{
 "cells": [
  {
   "cell_type": "code",
   "execution_count": 1,
   "id": "af5f493a-33f0-44fe-99d5-d0cbd8d3659b",
   "metadata": {},
   "outputs": [],
   "source": [
    "from tkinter import *\n",
    "import datetime\n"
   ]
  },
  {
   "cell_type": "code",
   "execution_count": 2,
   "id": "f37e11bc-4845-489f-b41f-27f5ff7ba4f7",
   "metadata": {},
   "outputs": [],
   "source": [
    "def date_time():\n",
    "    time = datetime.datetime.now()\n",
    "    hr = time.strftime('%I')\n",
    "    mi = time.strftime('%M')\n",
    "    sec = time.strftime('%S')\n",
    "    am = time.strftime('%p')\n",
    "    lab_hr.config(text= hr)\n",
    "    lab_min.config(text = mi)\n",
    "    lab_sec.config(text = sec)\n",
    "    lab_am.config(text = am)\n",
    "    lab_hr.after(200,date_time)\n",
    "\n",
    "\n",
    "clock = Tk()\n",
    "clock.title('Digital Clock')\n",
    "clock.geometry('1000x500')\n",
    "clock.config(bg = 'Magenta')\n",
    "\n",
    "\n",
    "lab_hr=Label(clock,text=\"00\",font=(\"Time New Roman\",60,\"bold\"),\n",
    "            bg=\"Red\", fg=\"White\",)\n",
    "             \n",
    "lab_hr.place(x=120,y=40,height=110,width=100)\n",
    "\n",
    "lab_hr_txt=Label(clock,text=\"hour\",font=(\"Time New Roman\",20,\"bold\"),\n",
    "            bg=\"Red\", fg=\"White\",)\n",
    "             \n",
    "lab_hr_txt.place(x=120,y=190,height=40,width=100)\n",
    "\n",
    "\n",
    "lab_min=Label(clock,text=\"00\",font=(\"Time New Roman\",60,\"bold\"),\n",
    "            bg=\"Red\", fg=\"White\",)\n",
    "             \n",
    "lab_min.place(x=340,y=50,height=110,width=100)\n",
    "\n",
    "lab_min_txt=Label(clock,text=\"min\",font=(\"Time New Roman\",20,\"bold\"),\n",
    "            bg=\"Red\", fg=\"White\",)\n",
    "             \n",
    "lab_min_txt.place(x=340,y=190,height=40,width=100)\n",
    "\n",
    "\n",
    "lab_sec=Label(clock,text=\"00\",font=(\"Time New Roman\",60,\"bold\"),\n",
    "            bg=\"Red\", fg=\"White\",)\n",
    "             \n",
    "lab_sec.place(x=560,y=50,height=110,width=100)\n",
    "\n",
    "lab_sec_txt=Label(clock,text=\"sec\",font=(\"Time New Roman\",20,\"bold\"),\n",
    "            bg=\"Red\", fg=\"White\",)\n",
    "             \n",
    "lab_sec_txt.place(x=560,y=190,height=40,width=100)\n",
    "\n",
    "\n",
    "lab_am=Label(clock,text=\"00\",font=(\"Time New Roman\",60,\"bold\"),\n",
    "            bg=\"Red\", fg=\"White\",)\n",
    "             \n",
    "lab_am.place(x=780,y=45,height=110,width=100)\n",
    "\n",
    "lab_am_txt=Label(clock,text=\"am/pm\",font=(\"Time New Roman\",20,\"bold\"),\n",
    "            bg=\"Red\", fg=\"White\",)\n",
    "             \n",
    "lab_am_txt.place(x=760,y=190,height=40,width=100)\n",
    "\n",
    "date_time()\n",
    "\n",
    "\n",
    "clock.mainloop()"
   ]
  },
  {
   "cell_type": "code",
   "execution_count": null,
   "id": "a3a0e534-3fa7-4fb9-8a51-6297b0fd18a0",
   "metadata": {},
   "outputs": [],
   "source": []
  },
  {
   "cell_type": "code",
   "execution_count": null,
   "id": "575b1bc8-ee07-455f-84a3-3679c5396c8d",
   "metadata": {},
   "outputs": [],
   "source": []
  }
 ],
 "metadata": {
  "kernelspec": {
   "display_name": "Python 3 (ipykernel)",
   "language": "python",
   "name": "python3"
  },
  "language_info": {
   "codemirror_mode": {
    "name": "ipython",
    "version": 3
   },
   "file_extension": ".py",
   "mimetype": "text/x-python",
   "name": "python",
   "nbconvert_exporter": "python",
   "pygments_lexer": "ipython3",
   "version": "3.12.0"
  }
 },
 "nbformat": 4,
 "nbformat_minor": 5
}
