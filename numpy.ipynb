{
 "cells": [
  {
   "cell_type": "code",
   "execution_count": 1,
   "id": "ca643ff1-05f6-4bd2-a9db-17baf0be99ef",
   "metadata": {},
   "outputs": [
    {
     "name": "stdout",
     "output_type": "stream",
     "text": [
      "Hello World\n"
     ]
    }
   ],
   "source": [
    "print(\"Hello World\")"
   ]
  },
  {
   "cell_type": "code",
   "execution_count": 2,
   "id": "d706c24e-0c6f-4c6f-8528-0da1d5a32dc9",
   "metadata": {},
   "outputs": [],
   "source": [
    "a = 19"
   ]
  },
  {
   "cell_type": "code",
   "execution_count": 3,
   "id": "a3291f72-57b2-4402-8ad2-9d602421cec6",
   "metadata": {},
   "outputs": [
    {
     "data": {
      "text/plain": [
       "19"
      ]
     },
     "execution_count": 3,
     "metadata": {},
     "output_type": "execute_result"
    }
   ],
   "source": [
    "a"
   ]
  },
  {
   "cell_type": "code",
   "execution_count": 4,
   "id": "48928068-d1ca-4ec6-a60d-23afec981854",
   "metadata": {},
   "outputs": [],
   "source": [
    "import numpy as np\n",
    "import matplotlib.pyplot as plt"
   ]
  },
  {
   "cell_type": "code",
   "execution_count": 5,
   "id": "51c49820-1a38-440e-a458-bddb298a4b74",
   "metadata": {},
   "outputs": [
    {
     "data": {
      "text/plain": [
       "array([1, 2, 3, 4, 5])"
      ]
     },
     "execution_count": 5,
     "metadata": {},
     "output_type": "execute_result"
    }
   ],
   "source": [
    "#array using list\n",
    "ls = [1,2,3,4,5]\n",
    "arr = np.array(ls)\n",
    "arr"
   ]
  },
  {
   "cell_type": "code",
   "execution_count": 6,
   "id": "a7f7b725-b63c-48fe-9637-3f73e4a35ad7",
   "metadata": {},
   "outputs": [
    {
     "data": {
      "text/plain": [
       "[1, 2, 3, 4, 5, 1, 2, 3, 4, 5]"
      ]
     },
     "execution_count": 6,
     "metadata": {},
     "output_type": "execute_result"
    }
   ],
   "source": [
    "ls*2"
   ]
  },
  {
   "cell_type": "code",
   "execution_count": 7,
   "id": "a5c1c793-a3a0-4649-90c1-2eb0bc7a5537",
   "metadata": {},
   "outputs": [
    {
     "data": {
      "text/plain": [
       "array([ 2,  4,  6,  8, 10])"
      ]
     },
     "execution_count": 7,
     "metadata": {},
     "output_type": "execute_result"
    }
   ],
   "source": [
    "arr*2"
   ]
  },
  {
   "cell_type": "code",
   "execution_count": 8,
   "id": "42bd9be1-05bc-41b0-b146-49bfa3e59929",
   "metadata": {},
   "outputs": [
    {
     "data": {
      "text/plain": [
       "array([ 1,  4,  9, 16, 25])"
      ]
     },
     "execution_count": 8,
     "metadata": {},
     "output_type": "execute_result"
    }
   ],
   "source": [
    "arr**2"
   ]
  },
  {
   "cell_type": "code",
   "execution_count": 9,
   "id": "b565716b-51b5-4514-b728-8d425a911f45",
   "metadata": {},
   "outputs": [
    {
     "data": {
      "text/plain": [
       "[1, 4, 9, 16, 25]"
      ]
     },
     "execution_count": 9,
     "metadata": {},
     "output_type": "execute_result"
    }
   ],
   "source": [
    "sq_ls = []\n",
    "for i in ls:\n",
    "    sq_ls.append(i**2)\n",
    "sq_ls"
   ]
  },
  {
   "cell_type": "code",
   "execution_count": 10,
   "id": "ed0184b2-e6bd-4e8d-9ea3-06ea12ec19ef",
   "metadata": {},
   "outputs": [
    {
     "data": {
      "text/plain": [
       "[1, 4, 9, 16, 25]"
      ]
     },
     "execution_count": 10,
     "metadata": {},
     "output_type": "execute_result"
    }
   ],
   "source": [
    "[x**2 for x in ls] #list comprehension"
   ]
  },
  {
   "cell_type": "code",
   "execution_count": 11,
   "id": "bdcdd6f1-63ea-4237-a6b7-5060ccc5f921",
   "metadata": {},
   "outputs": [
    {
     "data": {
      "text/plain": [
       "array([5, 3, 9, 7, 1])"
      ]
     },
     "execution_count": 11,
     "metadata": {},
     "output_type": "execute_result"
    }
   ],
   "source": [
    "arr1 = np.array((5,3,9,7,1))\n",
    "arr1"
   ]
  },
  {
   "cell_type": "code",
   "execution_count": 12,
   "id": "37d61780-3583-4266-8dfd-0c3d3740cc5d",
   "metadata": {},
   "outputs": [
    {
     "data": {
      "text/plain": [
       "array(['Hema', 'Rekha', 'jaya', 'Sushma'], dtype='<U6')"
      ]
     },
     "execution_count": 12,
     "metadata": {},
     "output_type": "execute_result"
    }
   ],
   "source": [
    "arr2 = np.array([\"Hema\",\"Rekha\",\"jaya\",\"Sushma\"])\n",
    "arr2"
   ]
  },
  {
   "cell_type": "code",
   "execution_count": 13,
   "id": "cd3018fb-b6b0-4ea4-b7f7-d63b2cd096e9",
   "metadata": {},
   "outputs": [
    {
     "data": {
      "text/plain": [
       "array(['Ram', 'Sita', '1', '0'], dtype='<U11')"
      ]
     },
     "execution_count": 13,
     "metadata": {},
     "output_type": "execute_result"
    }
   ],
   "source": [
    "arr3 = np.array([\"Ram\",\"Sita\",1,0])\n",
    "arr3"
   ]
  },
  {
   "cell_type": "code",
   "execution_count": 14,
   "id": "0cedeeb3-958f-4b13-b195-38b49274a914",
   "metadata": {},
   "outputs": [
    {
     "data": {
      "text/plain": [
       "array([  1,  51, 101, 151, 201, 251, 301, 351, 401, 451, 501, 551, 601,\n",
       "       651, 701, 751, 801, 851, 901, 951])"
      ]
     },
     "execution_count": 14,
     "metadata": {},
     "output_type": "execute_result"
    }
   ],
   "source": [
    "arr4 = np.arange(1,1001,50)\n",
    "#np.arange(start,end,step)\n",
    "#np.arange(end) #will start from o and step in 1\n",
    "#np.arange(start,end) #step will be 1\n",
    "arr4"
   ]
  },
  {
   "cell_type": "code",
   "execution_count": 15,
   "id": "081f5560-fbd0-4ded-ae9a-12f9d954841f",
   "metadata": {},
   "outputs": [
    {
     "data": {
      "text/plain": [
       "array([ 0,  1,  2,  3,  4,  5,  6,  7,  8,  9, 10, 11, 12, 13, 14, 15, 16,\n",
       "       17, 18, 19, 20, 21, 22])"
      ]
     },
     "execution_count": 15,
     "metadata": {},
     "output_type": "execute_result"
    }
   ],
   "source": [
    "arr5 = np.arange(23)\n",
    "arr5"
   ]
  },
  {
   "cell_type": "code",
   "execution_count": 16,
   "id": "2d1f0917-c05f-47d9-bcdf-de8f809f6a71",
   "metadata": {},
   "outputs": [
    {
     "data": {
      "text/plain": [
       "1"
      ]
     },
     "execution_count": 16,
     "metadata": {},
     "output_type": "execute_result"
    }
   ],
   "source": [
    "arr6 = np.random.randint(12)\n",
    "arr6"
   ]
  },
  {
   "cell_type": "code",
   "execution_count": 17,
   "id": "137ad357-2a2c-40ff-9781-56fe9484011c",
   "metadata": {},
   "outputs": [
    {
     "data": {
      "text/plain": [
       "6"
      ]
     },
     "execution_count": 17,
     "metadata": {},
     "output_type": "execute_result"
    }
   ],
   "source": [
    "arr7 = np.random.randint(5,13)\n",
    "arr7"
   ]
  },
  {
   "cell_type": "code",
   "execution_count": 18,
   "id": "ee7930c6-2ec7-457d-a1ec-7a181cfeaf7c",
   "metadata": {},
   "outputs": [
    {
     "data": {
      "text/plain": [
       "array([ 6,  9,  5,  9, 11,  9,  5, 10,  7, 11])"
      ]
     },
     "execution_count": 18,
     "metadata": {},
     "output_type": "execute_result"
    }
   ],
   "source": [
    "arr8 = np.random.randint(5,12,10)\n",
    "arr8"
   ]
  },
  {
   "cell_type": "code",
   "execution_count": 19,
   "id": "7b146c50-bd9c-4f01-9cf3-3479a1deca04",
   "metadata": {},
   "outputs": [
    {
     "data": {
      "text/plain": [
       "array([0.07362429, 0.52542065, 0.94344544, 0.25051104, 0.63463317,\n",
       "       0.10093062, 0.99997429, 0.60775373, 0.22350136, 0.70189204,\n",
       "       0.83222937, 0.00508264, 0.21929544, 0.48444646, 0.72621228,\n",
       "       0.53482552, 0.89751106, 0.28682826, 0.62242046, 0.60707479,\n",
       "       0.75421575, 0.53986731, 0.66544156])"
      ]
     },
     "execution_count": 19,
     "metadata": {},
     "output_type": "execute_result"
    }
   ],
   "source": [
    "arr9 = np.random.rand(23)\n",
    "arr9"
   ]
  },
  {
   "cell_type": "code",
   "execution_count": 20,
   "id": "91761170-2fbe-499e-a0e8-8a78101e062e",
   "metadata": {},
   "outputs": [
    {
     "data": {
      "text/plain": [
       "array([ 7.52377534,  7.99732703,  5.26457959,  7.51532491,  7.93839511,\n",
       "        9.17989379,  6.82505602,  7.66570342,  6.53599447,  9.22107591,\n",
       "        8.19187962,  8.82157296,  7.79010209,  7.57476184,  6.28798195,\n",
       "        4.22189738,  5.91951213,  8.46672063,  7.02837663,  7.82471179,\n",
       "        4.34957478,  8.71343825,  7.25156082, 11.65768698])"
      ]
     },
     "execution_count": 20,
     "metadata": {},
     "output_type": "execute_result"
    }
   ],
   "source": [
    "arr10 = np.random.normal(8,2,24)\n",
    "arr10"
   ]
  },
  {
   "cell_type": "code",
   "execution_count": 21,
   "id": "9854b8b0-bfdd-4220-bd7b-aaa6292b9771",
   "metadata": {},
   "outputs": [
    {
     "data": {
      "text/plain": [
       "array([7.31819077, 7.37265358, 9.22584839, ..., 7.40215   , 9.30801414,\n",
       "       9.64810211])"
      ]
     },
     "execution_count": 21,
     "metadata": {},
     "output_type": "execute_result"
    }
   ],
   "source": [
    "arr11 = np.random.normal(8,2,2400)\n",
    "arr11"
   ]
  },
  {
   "cell_type": "code",
   "execution_count": 22,
   "id": "7e5fa272-8be9-4fe2-a76b-2504a29c5844",
   "metadata": {},
   "outputs": [
    {
     "data": {
      "image/png": "[encoded data removed]",
      "text/plain": [
       "<Figure size 640x480 with 1 Axes>"
      ]
     },
     "metadata": {},
     "output_type": "display_data"
    }
   ],
   "source": [
    "plt.hist(arr11)\n",
    "plt.show()"
   ]
  },
  {
   "cell_type": "code",
   "execution_count": 23,
   "id": "23b8a949-8cc7-45fc-9a11-e5b0e70c0c89",
   "metadata": {},
   "outputs": [
    {
     "data": {
      "text/plain": [
       "array([  1,   2,   3,   4,   5,   6,   7,   8,   9,  10,  11,  12,  13,\n",
       "        14,  15,  16,  17,  18,  19,  20,  21,  22,  23,  24,  25,  26,\n",
       "        27,  28,  29,  30,  31,  32,  33,  34,  35,  36,  37,  38,  39,\n",
       "        40,  41,  42,  43,  44,  45,  46,  47,  48,  49,  50,  51,  52,\n",
       "        53,  54,  55,  56,  57,  58,  59,  60,  61,  62,  63,  64,  65,\n",
       "        66,  67,  68,  69,  70,  71,  72,  73,  74,  75,  76,  77,  78,\n",
       "        79,  80,  81,  82,  83,  84,  85,  86,  87,  88,  89,  90,  91,\n",
       "        92,  93,  94,  95,  96,  97,  98,  99, 100])"
      ]
     },
     "execution_count": 23,
     "metadata": {},
     "output_type": "execute_result"
    }
   ],
   "source": [
    "arr13 = np.arange(1,101)\n",
    "arr13"
   ]
  },
  {
   "cell_type": "code",
   "execution_count": 25,
   "id": "63b7b12f-46cb-4149-8079-8c64d9f2fbb5",
   "metadata": {},
   "outputs": [
    {
     "data": {
      "text/plain": [
       "array([[  1,   2,   3,   4,   5,   6,   7,   8,   9,  10],\n",
       "       [ 11,  12,  13,  14,  15,  16,  17,  18,  19,  20],\n",
       "       [ 21,  22,  23,  24,  25,  26,  27,  28,  29,  30],\n",
       "       [ 31,  32,  33,  34,  35,  36,  37,  38,  39,  40],\n",
       "       [ 41,  42,  43,  44,  45,  46,  47,  48,  49,  50],\n",
       "       [ 51,  52,  53,  54,  55,  56,  57,  58,  59,  60],\n",
       "       [ 61,  62,  63,  64,  65,  66,  67,  68,  69,  70],\n",
       "       [ 71,  72,  73,  74,  75,  76,  77,  78,  79,  80],\n",
       "       [ 81,  82,  83,  84,  85,  86,  87,  88,  89,  90],\n",
       "       [ 91,  92,  93,  94,  95,  96,  97,  98,  99, 100]])"
      ]
     },
     "execution_count": 25,
     "metadata": {},
     "output_type": "execute_result"
    }
   ],
   "source": [
    "arr19 = arr13.reshape(10,10)\n",
    "arr19\n",
    "                      "
   ]
  },
  {
   "cell_type": "code",
   "execution_count": null,
   "id": "9a471fb3-2466-4d10-89e6-402628ebfefe",
   "metadata": {},
   "outputs": [],
   "source": [
    "print(\"Size\",arr13.size)\n",
    "print(\"Shape\",arr13.shape)\n",
    "print(\"Dimension\",arr13.ndim)\n",
    "print(\"Datatype\",arr13.dtype)\n",
    "print(\"Datatype(name)\",arr13.dtype.name)\n"
   ]
  },
  {
   "cell_type": "code",
   "execution_count": null,
   "id": "c3dd8fa5-9a0a-47b4-8356-098315c76037",
   "metadata": {},
   "outputs": [],
   "source": [
    "arr14 = np.random.choice([1,2,3,4,5,6],10)\n",
    "arr14"
   ]
  },
  {
   "cell_type": "code",
   "execution_count": null,
   "id": "18320262-7c75-459c-ab01-28c90431beee",
   "metadata": {},
   "outputs": [],
   "source": [
    "arr15 = np.arange(24)\n",
    "arr15"
   ]
  },
  {
   "cell_type": "code",
   "execution_count": null,
   "id": "380dcb4f-a208-4db0-b375-004e615f4939",
   "metadata": {},
   "outputs": [],
   "source": [
    "arr15.ndim"
   ]
  },
  {
   "cell_type": "code",
   "execution_count": null,
   "id": "40c73760-cbfb-4e74-98d1-6c9126d31c1f",
   "metadata": {},
   "outputs": [],
   "source": [
    "arr15.reshape(4,6)"
   ]
  },
  {
   "cell_type": "code",
   "execution_count": null,
   "id": "6fa9c49e-2b19-442a-9b85-40a9e3d9e285",
   "metadata": {},
   "outputs": [],
   "source": [
    "arr15.reshape(4,6).ndim"
   ]
  },
  {
   "cell_type": "code",
   "execution_count": null,
   "id": "2b26359c-f193-4623-aecd-9cbdcf7e530a",
   "metadata": {},
   "outputs": [],
   "source": [
    "arr15.reshape(3,2,4)"
   ]
  },
  {
   "cell_type": "code",
   "execution_count": null,
   "id": "e37e1c9d-d682-4a4b-b746-5549178ba7df",
   "metadata": {},
   "outputs": [],
   "source": [
    "arr15.reshape(3,2,4)"
   ]
  },
  {
   "cell_type": "code",
   "execution_count": null,
   "id": "84c369d9-ee49-403c-9c69-d2b57f843a41",
   "metadata": {},
   "outputs": [],
   "source": [
    "arr15.reshape(3,2,4).ndim\n"
   ]
  },
  {
   "cell_type": "code",
   "execution_count": null,
   "id": "eb3bb4cb-87f4-4d02-a153-bdbe3066983a",
   "metadata": {},
   "outputs": [],
   "source": [
    "arr15.reshape(3,2,2,2)"
   ]
  },
  {
   "cell_type": "code",
   "execution_count": null,
   "id": "b0bfebbb-e4c8-4513-af96-f6957bc02029",
   "metadata": {},
   "outputs": [],
   "source": [
    "arr15.reshape(3,2,2,2).ndim\n"
   ]
  },
  {
   "cell_type": "code",
   "execution_count": null,
   "id": "026f438a-498e-4965-9564-ab80ab938b35",
   "metadata": {},
   "outputs": [],
   "source": [
    "arr15"
   ]
  },
  {
   "cell_type": "code",
   "execution_count": 27,
   "id": "435537cc-6f29-4dfa-8f74-fda9b9bda7b8",
   "metadata": {},
   "outputs": [
    {
     "data": {
      "text/plain": [
       "array([1, 2, 3, 4])"
      ]
     },
     "execution_count": 27,
     "metadata": {},
     "output_type": "execute_result"
    }
   ],
   "source": [
    "arr16 = np.arange(1,5)\n",
    "arr16"
   ]
  },
  {
   "cell_type": "code",
   "execution_count": 28,
   "id": "4e7f7582-1aab-48d4-bebb-2d29ba2cf6be",
   "metadata": {},
   "outputs": [
    {
     "data": {
      "text/plain": [
       "array([1, 1, 1, 1, 1, 2, 2, 2, 2, 2, 3, 3, 3, 3, 3, 4, 4, 4, 4, 4])"
      ]
     },
     "execution_count": 28,
     "metadata": {},
     "output_type": "execute_result"
    }
   ],
   "source": [
    "arr16.repeat(5)"
   ]
  },
  {
   "cell_type": "code",
   "execution_count": 29,
   "id": "c473dc77-6053-48df-9b53-9d1e94911a67",
   "metadata": {},
   "outputs": [
    {
     "data": {
      "text/plain": [
       "array([1, 1, 1, 2, 2, 2, 2, 2, 3, 3, 4, 4, 4])"
      ]
     },
     "execution_count": 29,
     "metadata": {},
     "output_type": "execute_result"
    }
   ],
   "source": [
    "arr16.repeat([3,5,2,3])"
   ]
  },
  {
   "cell_type": "code",
   "execution_count": 32,
   "id": "32117af7-0e63-4233-bab8-41ead8695bf9",
   "metadata": {},
   "outputs": [
    {
     "data": {
      "text/plain": [
       "(array([[1, 3],\n",
       "        [2, 3]]),\n",
       " array([[9, 6],\n",
       "        [9, 7]]))"
      ]
     },
     "execution_count": 32,
     "metadata": {},
     "output_type": "execute_result"
    }
   ],
   "source": [
    "arr17 = np.random.randint(1,5,4).reshape(2,2)\n",
    "arr18 = np.random.randint(5,10,4).reshape(2,2)\n",
    "arr17,arr18"
   ]
  },
  {
   "cell_type": "code",
   "execution_count": 33,
   "id": "e49a2321-91c1-42aa-85af-9cb9c5c01ba7",
   "metadata": {},
   "outputs": [
    {
     "data": {
      "text/plain": [
       "array([[10,  9],\n",
       "       [11, 10]])"
      ]
     },
     "execution_count": 33,
     "metadata": {},
     "output_type": "execute_result"
    }
   ],
   "source": [
    "arr17 + arr18"
   ]
  },
  {
   "cell_type": "code",
   "execution_count": 34,
   "id": "c0135d4f-20e1-450c-899c-1f5ae554046b",
   "metadata": {},
   "outputs": [
    {
     "data": {
      "text/plain": [
       "array([[-8, -3],\n",
       "       [-7, -4]])"
      ]
     },
     "execution_count": 34,
     "metadata": {},
     "output_type": "execute_result"
    }
   ],
   "source": [
    "arr17  - arr18"
   ]
  },
  {
   "cell_type": "code",
   "execution_count": 35,
   "id": "0f947dac-afac-47c2-9550-d25ffc4df8aa",
   "metadata": {},
   "outputs": [
    {
     "data": {
      "text/plain": [
       "array([[ 9, 18],\n",
       "       [18, 21]])"
      ]
     },
     "execution_count": 35,
     "metadata": {},
     "output_type": "execute_result"
    }
   ],
   "source": [
    "arr17 * arr18"
   ]
  },
  {
   "cell_type": "code",
   "execution_count": 36,
   "id": "8091d7ab-8bdf-4933-b836-9a1a51557431",
   "metadata": {},
   "outputs": [
    {
     "data": {
      "text/plain": [
       "array([[0.11111111, 0.5       ],\n",
       "       [0.22222222, 0.42857143]])"
      ]
     },
     "execution_count": 36,
     "metadata": {},
     "output_type": "execute_result"
    }
   ],
   "source": [
    "arr17 / arr18"
   ]
  },
  {
   "cell_type": "code",
   "execution_count": 37,
   "id": "9cbec1d8-3ed1-40c4-9d7e-36449f33086b",
   "metadata": {},
   "outputs": [
    {
     "data": {
      "text/plain": [
       "array([[36, 27],\n",
       "       [45, 33]])"
      ]
     },
     "execution_count": 37,
     "metadata": {},
     "output_type": "execute_result"
    }
   ],
   "source": [
    "np.dot(arr17,arr18)"
   ]
  },
  {
   "cell_type": "code",
   "execution_count": 38,
   "id": "613f571d-1b55-400f-b0c9-fab4d6d1f361",
   "metadata": {},
   "outputs": [
    {
     "data": {
      "text/plain": [
       "(array([[1, 3],\n",
       "        [2, 3]]),\n",
       " array([[9, 6],\n",
       "        [9, 7]]))"
      ]
     },
     "execution_count": 38,
     "metadata": {},
     "output_type": "execute_result"
    }
   ],
   "source": [
    "arr17,arr18"
   ]
  },
  {
   "cell_type": "code",
   "execution_count": 40,
   "id": "b86e1bc2-ec48-492e-8f2f-e9c5dd0840c1",
   "metadata": {},
   "outputs": [
    {
     "data": {
      "text/plain": [
       "2.25"
      ]
     },
     "execution_count": 40,
     "metadata": {},
     "output_type": "execute_result"
    }
   ],
   "source": [
    "arr17.mean()"
   ]
  },
  {
   "cell_type": "code",
   "execution_count": 41,
   "id": "d8b9ede7-8997-4e0e-802d-80e01fb29083",
   "metadata": {},
   "outputs": [
    {
     "data": {
      "text/plain": [
       "0.82915619758885"
      ]
     },
     "execution_count": 41,
     "metadata": {},
     "output_type": "execute_result"
    }
   ],
   "source": [
    "arr17.std()"
   ]
  },
  {
   "cell_type": "code",
   "execution_count": 42,
   "id": "df8f7a95-0d5e-4f0e-b6ab-526d41812344",
   "metadata": {},
   "outputs": [
    {
     "data": {
      "text/plain": [
       "1"
      ]
     },
     "execution_count": 42,
     "metadata": {},
     "output_type": "execute_result"
    }
   ],
   "source": [
    "arr17.min()"
   ]
  },
  {
   "cell_type": "code",
   "execution_count": 43,
   "id": "3e848df0-2050-4fc8-a19f-a571ae1c16a5",
   "metadata": {},
   "outputs": [
    {
     "data": {
      "text/plain": [
       "3"
      ]
     },
     "execution_count": 43,
     "metadata": {},
     "output_type": "execute_result"
    }
   ],
   "source": [
    "arr17.max()"
   ]
  },
  {
   "cell_type": "code",
   "execution_count": 45,
   "id": "7f450038-a467-45a3-a41d-1fe769069f1f",
   "metadata": {},
   "outputs": [
    {
     "data": {
      "text/plain": [
       "array([[1., 3.],\n",
       "       [2., 3.]])"
      ]
     },
     "execution_count": 45,
     "metadata": {},
     "output_type": "execute_result"
    }
   ],
   "source": [
    "arr17.astype(\"float\")"
   ]
  },
  {
   "cell_type": "raw",
   "id": "1fe271ed-0087-4c84-b257-7de5d9aa34ef",
   "metadata": {},
   "source": []
  },
  {
   "cell_type": "code",
   "execution_count": 46,
   "id": "26d68ef8-f6cf-4be3-b5c6-a930434ed565",
   "metadata": {},
   "outputs": [
    {
     "data": {
      "text/plain": [
       "array([1.        , 1.21052632, 1.42105263, 1.63157895, 1.84210526,\n",
       "       2.05263158, 2.26315789, 2.47368421, 2.68421053, 2.89473684,\n",
       "       3.10526316, 3.31578947, 3.52631579, 3.73684211, 3.94736842,\n",
       "       4.15789474, 4.36842105, 4.57894737, 4.78947368, 5.        ])"
      ]
     },
     "execution_count": 46,
     "metadata": {},
     "output_type": "execute_result"
    }
   ],
   "source": [
    "arr20 = np.linspace(1,5,20)\n",
    "arr20"
   ]
  },
  {
   "cell_type": "code",
   "execution_count": 47,
   "id": "85a9ba0f-9f1a-4623-ad01-5997bd7d8f1e",
   "metadata": {},
   "outputs": [
    {
     "data": {
      "text/plain": [
       "array([-1.        , -0.95918367, -0.91836735, -0.87755102, -0.83673469,\n",
       "       -0.79591837, -0.75510204, -0.71428571, -0.67346939, -0.63265306,\n",
       "       -0.59183673, -0.55102041, -0.51020408, -0.46938776, -0.42857143,\n",
       "       -0.3877551 , -0.34693878, -0.30612245, -0.26530612, -0.2244898 ,\n",
       "       -0.18367347, -0.14285714, -0.10204082, -0.06122449, -0.02040816,\n",
       "        0.02040816,  0.06122449,  0.10204082,  0.14285714,  0.18367347,\n",
       "        0.2244898 ,  0.26530612,  0.30612245,  0.34693878,  0.3877551 ,\n",
       "        0.42857143,  0.46938776,  0.51020408,  0.55102041,  0.59183673,\n",
       "        0.63265306,  0.67346939,  0.71428571,  0.75510204,  0.79591837,\n",
       "        0.83673469,  0.87755102,  0.91836735,  0.95918367,  1.        ])"
      ]
     },
     "execution_count": 47,
     "metadata": {},
     "output_type": "execute_result"
    }
   ],
   "source": [
    "arr21 = np.linspace(-1,1,50)\n",
    "arr21"
   ]
  },
  {
   "cell_type": "code",
   "execution_count": 53,
   "id": "06b1239c-9bee-4acd-b150-09c362da2d3a",
   "metadata": {},
   "outputs": [
    {
     "data": {
      "image/png": "[encoded data removed]",
      "text/plain": [
       "<Figure size 640x480 with 1 Axes>"
      ]
     },
     "metadata": {},
     "output_type": "display_data"
    }
   ],
   "source": [
    "plt.plot(np.square(arr21))\n",
    "plt.scatter(range(50),np.square(arr21),color = \"Red\",marker = \"*\")\n",
    "plt.show()\n"
   ]
  },
  {
   "cell_type": "code",
   "execution_count": null,
   "id": "b63f395f-f63c-4cd3-9380-3c0c9d6d8ed8",
   "metadata": {},
   "outputs": [],
   "source": []
  }
 ],
 "metadata": {
  "kernelspec": {
   "display_name": "Python 3 (ipykernel)",
   "language": "python",
   "name": "python3"
  },
  "language_info": {
   "codemirror_mode": {
    "name": "ipython",
    "version": 3
   },
   "file_extension": ".py",
   "mimetype": "text/x-python",
   "name": "python",
   "nbconvert_exporter": "python",
   "pygments_lexer": "ipython3",
   "version": "3.12.0"
  }
 },
 "nbformat": 4,
 "nbformat_minor": 5
}
