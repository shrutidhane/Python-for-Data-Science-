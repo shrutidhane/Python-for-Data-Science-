{
 "cells": [
  {
   "cell_type": "code",
   "execution_count": 8,
   "id": "00cec2ae-840d-43b0-83d9-2d1d64307f52",
   "metadata": {},
   "outputs": [],
   "source": [
    "import pandas as pd\n",
    "import numpy as np1"
   ]
  },
  {
   "cell_type": "code",
   "execution_count": 9,
   "id": "40b40eeb-9f7d-42e9-99f7-ec14907eed6a",
   "metadata": {},
   "outputs": [
    {
     "data": {
      "text/html": [
       "<div>\n",
       "<style scoped>\n",
       "    .dataframe tbody tr th:only-of-type {\n",
       "        vertical-align: middle;\n",
       "    }\n",
       "\n",
       "    .dataframe tbody tr th {\n",
       "        vertical-align: top;\n",
       "    }\n",
       "\n",
       "    .dataframe thead th {\n",
       "        text-align: right;\n",
       "    }\n",
       "</style>\n",
       "<table border=\"1\" class=\"dataframe\">\n",
       "  <thead>\n",
       "    <tr style=\"text-align: right;\">\n",
       "      <th></th>\n",
       "      <th>Laptop</th>\n",
       "      <th>Model</th>\n",
       "      <th>Year</th>\n",
       "      <th>RAM</th>\n",
       "      <th>Storage</th>\n",
       "      <th>Price</th>\n",
       "    </tr>\n",
       "  </thead>\n",
       "  <tbody>\n",
       "    <tr>\n",
       "      <th>0</th>\n",
       "      <td>HP</td>\n",
       "      <td>Elitebook</td>\n",
       "      <td>2018</td>\n",
       "      <td>4</td>\n",
       "      <td>0</td>\n",
       "      <td>61800</td>\n",
       "    </tr>\n",
       "    <tr>\n",
       "      <th>1</th>\n",
       "      <td>Lenovo</td>\n",
       "      <td>Ideapad</td>\n",
       "      <td>2014</td>\n",
       "      <td>8</td>\n",
       "      <td>0</td>\n",
       "      <td>53600</td>\n",
       "    </tr>\n",
       "    <tr>\n",
       "      <th>2</th>\n",
       "      <td>Acer</td>\n",
       "      <td>Notebook</td>\n",
       "      <td>2015</td>\n",
       "      <td>12</td>\n",
       "      <td>0</td>\n",
       "      <td>75200</td>\n",
       "    </tr>\n",
       "    <tr>\n",
       "      <th>3</th>\n",
       "      <td>Dell</td>\n",
       "      <td>Latitude</td>\n",
       "      <td>2020</td>\n",
       "      <td>16</td>\n",
       "      <td>0</td>\n",
       "      <td>67100</td>\n",
       "    </tr>\n",
       "    <tr>\n",
       "      <th>4</th>\n",
       "      <td>MSI</td>\n",
       "      <td>Primebook</td>\n",
       "      <td>2012</td>\n",
       "      <td>12</td>\n",
       "      <td>0</td>\n",
       "      <td>53300</td>\n",
       "    </tr>\n",
       "  </tbody>\n",
       "</table>\n",
       "</div>"
      ],
      "text/plain": [
       "   Laptop      Model  Year  RAM  Storage  Price\n",
       "0      HP  Elitebook  2018    4        0  61800\n",
       "1  Lenovo    Ideapad  2014    8        0  53600\n",
       "2    Acer   Notebook  2015   12        0  75200\n",
       "3    Dell   Latitude  2020   16        0  67100\n",
       "4     MSI  Primebook  2012   12        0  53300"
      ]
     },
     "execution_count": 9,
     "metadata": {},
     "output_type": "execute_result"
    }
   ],
   "source": [
    "laptop = pd.read_excel(\"Laptop.xlsx\")\n",
    "laptop.head()"
   ]
  },
  {
   "cell_type": "code",
   "execution_count": 3,
   "id": "e3400a65-9dc8-418e-ac12-2d28c374067f",
   "metadata": {},
   "outputs": [
    {
     "data": {
      "text/plain": [
       "(18, 6)"
      ]
     },
     "execution_count": 3,
     "metadata": {},
     "output_type": "execute_result"
    }
   ],
   "source": [
    "laptop.shape"
   ]
  },
  {
   "cell_type": "code",
   "execution_count": 4,
   "id": "3421b5a1-fa0a-47ad-93f1-10bceda62dfc",
   "metadata": {},
   "outputs": [
    {
     "ename": "NameError",
     "evalue": "name 'np' is not defined",
     "output_type": "error",
     "traceback": [
      "\u001b[1;31m---------------------------------------------------------------------------\u001b[0m",
      "\u001b[1;31mNameError\u001b[0m                                 Traceback (most recent call last)",
      "Cell \u001b[1;32mIn[4], line 1\u001b[0m\n\u001b[1;32m----> 1\u001b[0m Storage \u001b[38;5;241m=\u001b[39m \u001b[43mnp\u001b[49m\u001b[38;5;241m.\u001b[39mrandom\u001b[38;5;241m.\u001b[39mchoice([\u001b[38;5;241m128\u001b[39m,\u001b[38;5;241m256\u001b[39m,\u001b[38;5;241m512\u001b[39m],\u001b[38;5;241m18\u001b[39m)\n\u001b[0;32m      2\u001b[0m Storage                           \n",
      "\u001b[1;31mNameError\u001b[0m: name 'np' is not defined"
     ]
    }
   ],
   "source": [
    "Storage = np.random.choice([128,256,512],18)\n",
    "Storage                           "
   ]
  },
  {
   "cell_type": "code",
   "execution_count": null,
   "id": "f0932b59-5bc5-4e07-861f-d9bc953b06af",
   "metadata": {},
   "outputs": [],
   "source": [
    "laptop.info()"
   ]
  },
  {
   "cell_type": "code",
   "execution_count": null,
   "id": "98da0ae8-c33a-4d04-9b3b-b71e298e27d7",
   "metadata": {},
   "outputs": [],
   "source": [
    "laptop.describe()"
   ]
  },
  {
   "cell_type": "code",
   "execution_count": null,
   "id": "f407a459-c533-47e2-bf20-c03434893083",
   "metadata": {},
   "outputs": [],
   "source": [
    "laptop.duplicated()"
   ]
  },
  {
   "cell_type": "code",
   "execution_count": null,
   "id": "331ec104-ad83-4f2e-98e7-584069eea0f7",
   "metadata": {},
   "outputs": [],
   "source": []
  },
  {
   "cell_type": "code",
   "execution_count": null,
   "id": "51c386e5-625c-47f1-93b5-05b18d9d9bf7",
   "metadata": {},
   "outputs": [],
   "source": [
    "laptop.isna().sum()"
   ]
  },
  {
   "cell_type": "code",
   "execution_count": null,
   "id": "ff21a31e-7279-49f4-8dd0-86cb755d71f9",
   "metadata": {},
   "outputs": [],
   "source": [
    "laptop[\"Storage\"]= Storage \n",
    "laptop.head()\n"
   ]
  },
  {
   "cell_type": "code",
   "execution_count": null,
   "id": "de1bd17a-1683-4c6d-a790-4d5c3fcfd395",
   "metadata": {},
   "outputs": [],
   "source": [
    "laptop[\"RAM\"] = laptop[\"RAM\"].replace(12,np.nan)"
   ]
  },
  {
   "cell_type": "code",
   "execution_count": null,
   "id": "57556844-5594-4cf7-8837-b38732de174b",
   "metadata": {},
   "outputs": [],
   "source": [
    "laptop[\"RAM\"].isna()"
   ]
  },
  {
   "cell_type": "code",
   "execution_count": null,
   "id": "91e8187e-16bb-414f-8761-3f2512128c1f",
   "metadata": {},
   "outputs": [],
   "source": [
    "laptop[\"RAM\"].isna().sum()"
   ]
  },
  {
   "cell_type": "code",
   "execution_count": null,
   "id": "83b5b9a7-284c-4539-a65b-9ac630779cb9",
   "metadata": {
    "scrolled": true
   },
   "outputs": [],
   "source": [
    "laptop[\"RAM\"].fillna(8)\n"
   ]
  },
  {
   "cell_type": "code",
   "execution_count": null,
   "id": "e78e6292-4654-40f1-9801-c546237e7b7d",
   "metadata": {},
   "outputs": [],
   "source": [
    "laptop[\"RAM\"]=laptop[\"RAM\"].fillna(laptop[\"RAM\"].quantile(0.5))"
   ]
  },
  {
   "cell_type": "code",
   "execution_count": null,
   "id": "76f22e1f-b7ad-4a17-8c63-25d8fe6be5e6",
   "metadata": {},
   "outputs": [],
   "source": [
    "laptop[\"RAM\"].quantile([0.1,0.25,0.35,0.5,0.6,0.75,0.8,0.95,0.99])\n",
    "                       "
   ]
  },
  {
   "cell_type": "code",
   "execution_count": null,
   "id": "6f966b42-5763-44e1-9677-2f799d02e2b4",
   "metadata": {},
   "outputs": [],
   "source": [
    "laptop.groupby(\"Laptop\").mean(\"Price\")"
   ]
  },
  {
   "cell_type": "code",
   "execution_count": null,
   "id": "4b9c640d-ae61-47a4-adb7-49d9b7bd4dac",
   "metadata": {},
   "outputs": [],
   "source": [
    "laptop.groupby(\"Laptop\").sum(\"Price\")"
   ]
  },
  {
   "cell_type": "code",
   "execution_count": null,
   "id": "17221373-35fc-4dd7-9f1a-f0457fb0f6bf",
   "metadata": {},
   "outputs": [],
   "source": [
    "laptop.groupby(\"Laptop\").count()"
   ]
  },
  {
   "cell_type": "code",
   "execution_count": null,
   "id": "9e77ac95-2dba-4fcf-9010-850d709b5526",
   "metadata": {},
   "outputs": [],
   "source": [
    "laptop[\"Laptop\"].value_counts()"
   ]
  },
  {
   "cell_type": "code",
   "execution_count": null,
   "id": "6e9460d8-84ab-4535-b9db-8351f548cab4",
   "metadata": {},
   "outputs": [],
   "source": [
    "laptop[\"RAM\"].value_counts()"
   ]
  },
  {
   "cell_type": "code",
   "execution_count": null,
   "id": "c0932024-2622-41ee-9903-2c83aecceb70",
   "metadata": {},
   "outputs": [],
   "source": [
    "laptop[\"Model\"].unique()"
   ]
  },
  {
   "cell_type": "code",
   "execution_count": null,
   "id": "10f4fcf6-7a06-4054-9025-e887554398b5",
   "metadata": {},
   "outputs": [],
   "source": [
    "laptop[\"Model\"].unique().tolist() #will convert array into list"
   ]
  },
  {
   "cell_type": "code",
   "execution_count": null,
   "id": "1713c83a-0462-4acd-a3cc-86d1d490f41e",
   "metadata": {},
   "outputs": [],
   "source": [
    "sales = pd.read_excel(\"Sales.xlsx\")"
   ]
  },
  {
   "cell_type": "code",
   "execution_count": null,
   "id": "95ea04f9-72f5-4841-8137-e20e50808da4",
   "metadata": {},
   "outputs": [],
   "source": [
    "sales.head()"
   ]
  },
  {
   "cell_type": "code",
   "execution_count": null,
   "id": "984ad533-0060-471f-bdd3-dcb6a6431bff",
   "metadata": {},
   "outputs": [],
   "source": [
    "sales.groupby(\"Name\").sum(\"Sales\")"
   ]
  },
  {
   "cell_type": "code",
   "execution_count": null,
   "id": "2424ed7f-1780-47bc-8adc-5cd438f6b9c3",
   "metadata": {},
   "outputs": [],
   "source": [
    "sales.groupby(\"Month\").sum(\"Sales\")"
   ]
  },
  {
   "cell_type": "code",
   "execution_count": null,
   "id": "a74bd8c8-452d-40be-b66a-6fa9b2d0530f",
   "metadata": {},
   "outputs": [],
   "source": [
    "pd.pivot(sales,index = \"Name\",columns =\"Month\",values = \"Sales\")"
   ]
  },
  {
   "cell_type": "code",
   "execution_count": null,
   "id": "1c1075d2-0706-41d6-b47f-0d68f91a8612",
   "metadata": {},
   "outputs": [],
   "source": [
    "pd.pivot_table(sales, index = \"Name\",columns =\"Month\",values = \"Sales\")"
   ]
  },
  {
   "cell_type": "code",
   "execution_count": null,
   "id": "b4896304-14c2-4e96-9b62-453544e0e8a7",
   "metadata": {},
   "outputs": [],
   "source": [
    "new_sales = pd.concat([sales, sales],axis = 0)"
   ]
  },
  {
   "cell_type": "code",
   "execution_count": null,
   "id": "50fb109b-8404-4cf1-aeb5-d87448670bc1",
   "metadata": {},
   "outputs": [],
   "source": [
    "new_sales"
   ]
  },
  {
   "cell_type": "code",
   "execution_count": null,
   "id": "c215ee35-b76e-4d3b-b8a7-ed18db431e9e",
   "metadata": {},
   "outputs": [],
   "source": [
    "pd.pivot_table(new_sales, index = \"Name\",columns =\"Month\",values = \"Sales\", aggfunc=\"sum\")"
   ]
  },
  {
   "cell_type": "code",
   "execution_count": null,
   "id": "e8eb6974-0afe-4620-ad21-dd623920bad2",
   "metadata": {},
   "outputs": [],
   "source": [
    "pd.pivot_table(new_sales, index = \"Name\",columns =\"Month\",values = \"Sales\",aggfunc=\"mean\")"
   ]
  },
  {
   "cell_type": "code",
   "execution_count": null,
   "id": "3db72f1d-2dbd-4796-9ec9-78c9e4b5708b",
   "metadata": {},
   "outputs": [],
   "source": [
    "pvt_tbl_sales = pd.pivot_table(new_sales, index = \"Name\",columns =\"Month\",values = \"Sales\", aggfunc=\"sum\")"
   ]
  },
  {
   "cell_type": "code",
   "execution_count": null,
   "id": "90df6f17-a65a-4e8f-9e83-27fd3066c1a9",
   "metadata": {},
   "outputs": [],
   "source": [
    "pvt_tbl_sales"
   ]
  },
  {
   "cell_type": "code",
   "execution_count": null,
   "id": "2f787dbc-3b34-41a9-bcd0-448128580224",
   "metadata": {},
   "outputs": [],
   "source": [
    "pvt_tbl_sales.reset_index()"
   ]
  },
  {
   "cell_type": "code",
   "execution_count": null,
   "id": "012f31cd-a23b-4e42-b262-c36b99ece968",
   "metadata": {},
   "outputs": [],
   "source": [
    "sales"
   ]
  },
  {
   "cell_type": "code",
   "execution_count": null,
   "id": "5b6a8ee0-1949-48e5-a123-c7dd24e0038b",
   "metadata": {},
   "outputs": [],
   "source": [
    "sales.groupby(\"Name\").sum().plot.bar()"
   ]
  },
  {
   "cell_type": "code",
   "execution_count": null,
   "id": "eeebca60-a6c3-4520-b017-9caebba5c2ec",
   "metadata": {},
   "outputs": [],
   "source": [
    "sales.groupby(\"Name\").mean(\"Sales\").plot.pie(subplots = True)"
   ]
  },
  {
   "cell_type": "code",
   "execution_count": 14,
   "id": "45c69357-fd20-46dd-ad1b-77798e9c380c",
   "metadata": {},
   "outputs": [],
   "source": [
    "#mark1 = pd.read_excel(\"mark1.xlsx\")\n",
    "mark2 = pd.read_excel(\"mark2.xlsx\")"
   ]
  },
  {
   "cell_type": "code",
   "execution_count": 24,
   "id": "367b2fb9-1b4f-452f-97e5-cf2c9b110925",
   "metadata": {},
   "outputs": [],
   "source": [
    "mark1 = pd.read_excel(\"mark1.xlsx\")\n",
    "mark2 = pd.read_excel(\"mark2.xlsx\")"
   ]
  },
  {
   "cell_type": "code",
   "execution_count": 18,
   "id": "c5e84b8b-5ac0-4712-a7fb-3953a277255d",
   "metadata": {},
   "outputs": [
    {
     "data": {
      "text/html": [
       "<div>\n",
       "<style scoped>\n",
       "    .dataframe tbody tr th:only-of-type {\n",
       "        vertical-align: middle;\n",
       "    }\n",
       "\n",
       "    .dataframe tbody tr th {\n",
       "        vertical-align: top;\n",
       "    }\n",
       "\n",
       "    .dataframe thead th {\n",
       "        text-align: right;\n",
       "    }\n",
       "</style>\n",
       "<table border=\"1\" class=\"dataframe\">\n",
       "  <thead>\n",
       "    <tr style=\"text-align: right;\">\n",
       "      <th></th>\n",
       "      <th>Name</th>\n",
       "      <th>Math</th>\n",
       "      <th>Science</th>\n",
       "    </tr>\n",
       "  </thead>\n",
       "  <tbody>\n",
       "    <tr>\n",
       "      <th>0</th>\n",
       "      <td>Ram</td>\n",
       "      <td>67</td>\n",
       "      <td>45</td>\n",
       "    </tr>\n",
       "    <tr>\n",
       "      <th>1</th>\n",
       "      <td>Sham</td>\n",
       "      <td>59</td>\n",
       "      <td>42</td>\n",
       "    </tr>\n",
       "    <tr>\n",
       "      <th>2</th>\n",
       "      <td>Sita</td>\n",
       "      <td>87</td>\n",
       "      <td>86</td>\n",
       "    </tr>\n",
       "    <tr>\n",
       "      <th>3</th>\n",
       "      <td>Gita</td>\n",
       "      <td>65</td>\n",
       "      <td>46</td>\n",
       "    </tr>\n",
       "  </tbody>\n",
       "</table>\n",
       "</div>"
      ],
      "text/plain": [
       "   Name  Math  Science\n",
       "0   Ram    67       45\n",
       "1  Sham    59       42\n",
       "2  Sita    87       86\n",
       "3  Gita    65       46"
      ]
     },
     "execution_count": 18,
     "metadata": {},
     "output_type": "execute_result"
    }
   ],
   "source": [
    "mark1"
   ]
  },
  {
   "cell_type": "code",
   "execution_count": 19,
   "id": "a7191930-0542-4596-b69a-40669656de99",
   "metadata": {},
   "outputs": [
    {
     "data": {
      "text/html": [
       "<div>\n",
       "<style scoped>\n",
       "    .dataframe tbody tr th:only-of-type {\n",
       "        vertical-align: middle;\n",
       "    }\n",
       "\n",
       "    .dataframe tbody tr th {\n",
       "        vertical-align: top;\n",
       "    }\n",
       "\n",
       "    .dataframe thead th {\n",
       "        text-align: right;\n",
       "    }\n",
       "</style>\n",
       "<table border=\"1\" class=\"dataframe\">\n",
       "  <thead>\n",
       "    <tr style=\"text-align: right;\">\n",
       "      <th></th>\n",
       "      <th>Name</th>\n",
       "      <th>English</th>\n",
       "      <th>Sports</th>\n",
       "    </tr>\n",
       "  </thead>\n",
       "  <tbody>\n",
       "    <tr>\n",
       "      <th>0</th>\n",
       "      <td>Ram</td>\n",
       "      <td>87</td>\n",
       "      <td>46</td>\n",
       "    </tr>\n",
       "    <tr>\n",
       "      <th>1</th>\n",
       "      <td>Sham</td>\n",
       "      <td>56</td>\n",
       "      <td>75</td>\n",
       "    </tr>\n",
       "    <tr>\n",
       "      <th>2</th>\n",
       "      <td>Sita</td>\n",
       "      <td>64</td>\n",
       "      <td>67</td>\n",
       "    </tr>\n",
       "    <tr>\n",
       "      <th>3</th>\n",
       "      <td>Gita</td>\n",
       "      <td>98</td>\n",
       "      <td>75</td>\n",
       "    </tr>\n",
       "  </tbody>\n",
       "</table>\n",
       "</div>"
      ],
      "text/plain": [
       "   Name  English  Sports\n",
       "0   Ram       87      46\n",
       "1  Sham       56      75\n",
       "2  Sita       64      67\n",
       "3  Gita       98      75"
      ]
     },
     "execution_count": 19,
     "metadata": {},
     "output_type": "execute_result"
    }
   ],
   "source": [
    "mark2"
   ]
  },
  {
   "cell_type": "code",
   "execution_count": 41,
   "id": "4f4bbb50-f6e3-45f7-9fbc-8037c72e93d3",
   "metadata": {},
   "outputs": [],
   "source": [
    "mark1 = pd.read_excel(\"mark1.xlsx\")\n",
    "mark2 = pd.read_excel(\"mark2.xlsx\")\n"
   ]
  },
  {
   "cell_type": "code",
   "execution_count": 42,
   "id": "de1b9918-f676-4571-bee5-839bb1a2747b",
   "metadata": {},
   "outputs": [
    {
     "data": {
      "text/html": [
       "<div>\n",
       "<style scoped>\n",
       "    .dataframe tbody tr th:only-of-type {\n",
       "        vertical-align: middle;\n",
       "    }\n",
       "\n",
       "    .dataframe tbody tr th {\n",
       "        vertical-align: top;\n",
       "    }\n",
       "\n",
       "    .dataframe thead th {\n",
       "        text-align: right;\n",
       "    }\n",
       "</style>\n",
       "<table border=\"1\" class=\"dataframe\">\n",
       "  <thead>\n",
       "    <tr style=\"text-align: right;\">\n",
       "      <th></th>\n",
       "      <th>Name</th>\n",
       "      <th>Math</th>\n",
       "      <th>Science</th>\n",
       "    </tr>\n",
       "  </thead>\n",
       "  <tbody>\n",
       "    <tr>\n",
       "      <th>0</th>\n",
       "      <td>Ram</td>\n",
       "      <td>67</td>\n",
       "      <td>45</td>\n",
       "    </tr>\n",
       "    <tr>\n",
       "      <th>1</th>\n",
       "      <td>Sham</td>\n",
       "      <td>59</td>\n",
       "      <td>42</td>\n",
       "    </tr>\n",
       "    <tr>\n",
       "      <th>2</th>\n",
       "      <td>Sita</td>\n",
       "      <td>87</td>\n",
       "      <td>86</td>\n",
       "    </tr>\n",
       "    <tr>\n",
       "      <th>3</th>\n",
       "      <td>Gita</td>\n",
       "      <td>65</td>\n",
       "      <td>46</td>\n",
       "    </tr>\n",
       "    <tr>\n",
       "      <th>4</th>\n",
       "      <td>Rinku</td>\n",
       "      <td>73</td>\n",
       "      <td>47</td>\n",
       "    </tr>\n",
       "    <tr>\n",
       "      <th>5</th>\n",
       "      <td>Raju</td>\n",
       "      <td>90</td>\n",
       "      <td>67</td>\n",
       "    </tr>\n",
       "  </tbody>\n",
       "</table>\n",
       "</div>"
      ],
      "text/plain": [
       "     Name  Math  Science\n",
       "0     Ram    67       45\n",
       "1    Sham    59       42\n",
       "2    Sita    87       86\n",
       "3    Gita    65       46\n",
       "4  Rinku     73       47\n",
       "5    Raju    90       67"
      ]
     },
     "execution_count": 42,
     "metadata": {},
     "output_type": "execute_result"
    }
   ],
   "source": [
    "mark1"
   ]
  },
  {
   "cell_type": "code",
   "execution_count": 32,
   "id": "809b5a0c-f0fa-4422-9790-78715bce7de1",
   "metadata": {},
   "outputs": [
    {
     "data": {
      "text/html": [
       "<div>\n",
       "<style scoped>\n",
       "    .dataframe tbody tr th:only-of-type {\n",
       "        vertical-align: middle;\n",
       "    }\n",
       "\n",
       "    .dataframe tbody tr th {\n",
       "        vertical-align: top;\n",
       "    }\n",
       "\n",
       "    .dataframe thead th {\n",
       "        text-align: right;\n",
       "    }\n",
       "</style>\n",
       "<table border=\"1\" class=\"dataframe\">\n",
       "  <thead>\n",
       "    <tr style=\"text-align: right;\">\n",
       "      <th></th>\n",
       "      <th>Name</th>\n",
       "      <th>English</th>\n",
       "      <th>Sports</th>\n",
       "    </tr>\n",
       "  </thead>\n",
       "  <tbody>\n",
       "    <tr>\n",
       "      <th>0</th>\n",
       "      <td>Ram</td>\n",
       "      <td>87</td>\n",
       "      <td>46</td>\n",
       "    </tr>\n",
       "    <tr>\n",
       "      <th>1</th>\n",
       "      <td>Sham</td>\n",
       "      <td>56</td>\n",
       "      <td>75</td>\n",
       "    </tr>\n",
       "    <tr>\n",
       "      <th>2</th>\n",
       "      <td>Sita</td>\n",
       "      <td>64</td>\n",
       "      <td>67</td>\n",
       "    </tr>\n",
       "    <tr>\n",
       "      <th>3</th>\n",
       "      <td>Gita</td>\n",
       "      <td>98</td>\n",
       "      <td>75</td>\n",
       "    </tr>\n",
       "    <tr>\n",
       "      <th>4</th>\n",
       "      <td>Rockey</td>\n",
       "      <td>55</td>\n",
       "      <td>70</td>\n",
       "    </tr>\n",
       "  </tbody>\n",
       "</table>\n",
       "</div>"
      ],
      "text/plain": [
       "     Name  English  Sports\n",
       "0     Ram       87      46\n",
       "1    Sham       56      75\n",
       "2    Sita       64      67\n",
       "3    Gita       98      75\n",
       "4  Rockey       55      70"
      ]
     },
     "execution_count": 32,
     "metadata": {},
     "output_type": "execute_result"
    }
   ],
   "source": [
    "mark2"
   ]
  },
  {
   "cell_type": "code",
   "execution_count": 33,
   "id": "6f529907-1915-4a2b-befd-c3d71c36dc72",
   "metadata": {},
   "outputs": [
    {
     "data": {
      "text/html": [
       "<div>\n",
       "<style scoped>\n",
       "    .dataframe tbody tr th:only-of-type {\n",
       "        vertical-align: middle;\n",
       "    }\n",
       "\n",
       "    .dataframe tbody tr th {\n",
       "        vertical-align: top;\n",
       "    }\n",
       "\n",
       "    .dataframe thead th {\n",
       "        text-align: right;\n",
       "    }\n",
       "</style>\n",
       "<table border=\"1\" class=\"dataframe\">\n",
       "  <thead>\n",
       "    <tr style=\"text-align: right;\">\n",
       "      <th></th>\n",
       "      <th>Name</th>\n",
       "      <th>Math</th>\n",
       "      <th>Science</th>\n",
       "      <th>English</th>\n",
       "      <th>Sports</th>\n",
       "    </tr>\n",
       "  </thead>\n",
       "  <tbody>\n",
       "    <tr>\n",
       "      <th>0</th>\n",
       "      <td>Ram</td>\n",
       "      <td>67</td>\n",
       "      <td>45</td>\n",
       "      <td>87</td>\n",
       "      <td>46</td>\n",
       "    </tr>\n",
       "    <tr>\n",
       "      <th>1</th>\n",
       "      <td>Sham</td>\n",
       "      <td>59</td>\n",
       "      <td>42</td>\n",
       "      <td>56</td>\n",
       "      <td>75</td>\n",
       "    </tr>\n",
       "    <tr>\n",
       "      <th>2</th>\n",
       "      <td>Sita</td>\n",
       "      <td>87</td>\n",
       "      <td>86</td>\n",
       "      <td>64</td>\n",
       "      <td>67</td>\n",
       "    </tr>\n",
       "    <tr>\n",
       "      <th>3</th>\n",
       "      <td>Gita</td>\n",
       "      <td>65</td>\n",
       "      <td>46</td>\n",
       "      <td>98</td>\n",
       "      <td>75</td>\n",
       "    </tr>\n",
       "  </tbody>\n",
       "</table>\n",
       "</div>"
      ],
      "text/plain": [
       "   Name  Math  Science  English  Sports\n",
       "0   Ram    67       45       87      46\n",
       "1  Sham    59       42       56      75\n",
       "2  Sita    87       86       64      67\n",
       "3  Gita    65       46       98      75"
      ]
     },
     "execution_count": 33,
     "metadata": {},
     "output_type": "execute_result"
    }
   ],
   "source": [
    "mark1.merge(mark2,on = \"Name\" , how = \"inner\")"
   ]
  },
  {
   "cell_type": "code",
   "execution_count": 34,
   "id": "795824e4-96f9-4f13-9eb6-ad215092bdd2",
   "metadata": {},
   "outputs": [
    {
     "data": {
      "text/html": [
       "<div>\n",
       "<style scoped>\n",
       "    .dataframe tbody tr th:only-of-type {\n",
       "        vertical-align: middle;\n",
       "    }\n",
       "\n",
       "    .dataframe tbody tr th {\n",
       "        vertical-align: top;\n",
       "    }\n",
       "\n",
       "    .dataframe thead th {\n",
       "        text-align: right;\n",
       "    }\n",
       "</style>\n",
       "<table border=\"1\" class=\"dataframe\">\n",
       "  <thead>\n",
       "    <tr style=\"text-align: right;\">\n",
       "      <th></th>\n",
       "      <th>Name</th>\n",
       "      <th>Math</th>\n",
       "      <th>Science</th>\n",
       "      <th>English</th>\n",
       "      <th>Sports</th>\n",
       "    </tr>\n",
       "  </thead>\n",
       "  <tbody>\n",
       "    <tr>\n",
       "      <th>0</th>\n",
       "      <td>Ram</td>\n",
       "      <td>67.0</td>\n",
       "      <td>45.0</td>\n",
       "      <td>87.0</td>\n",
       "      <td>46.0</td>\n",
       "    </tr>\n",
       "    <tr>\n",
       "      <th>1</th>\n",
       "      <td>Sham</td>\n",
       "      <td>59.0</td>\n",
       "      <td>42.0</td>\n",
       "      <td>56.0</td>\n",
       "      <td>75.0</td>\n",
       "    </tr>\n",
       "    <tr>\n",
       "      <th>2</th>\n",
       "      <td>Sita</td>\n",
       "      <td>87.0</td>\n",
       "      <td>86.0</td>\n",
       "      <td>64.0</td>\n",
       "      <td>67.0</td>\n",
       "    </tr>\n",
       "    <tr>\n",
       "      <th>3</th>\n",
       "      <td>Gita</td>\n",
       "      <td>65.0</td>\n",
       "      <td>46.0</td>\n",
       "      <td>98.0</td>\n",
       "      <td>75.0</td>\n",
       "    </tr>\n",
       "    <tr>\n",
       "      <th>4</th>\n",
       "      <td>Rinku</td>\n",
       "      <td>73.0</td>\n",
       "      <td>47.0</td>\n",
       "      <td>NaN</td>\n",
       "      <td>NaN</td>\n",
       "    </tr>\n",
       "    <tr>\n",
       "      <th>5</th>\n",
       "      <td>Rockey</td>\n",
       "      <td>NaN</td>\n",
       "      <td>NaN</td>\n",
       "      <td>55.0</td>\n",
       "      <td>70.0</td>\n",
       "    </tr>\n",
       "  </tbody>\n",
       "</table>\n",
       "</div>"
      ],
      "text/plain": [
       "     Name  Math  Science  English  Sports\n",
       "0     Ram  67.0     45.0     87.0    46.0\n",
       "1    Sham  59.0     42.0     56.0    75.0\n",
       "2    Sita  87.0     86.0     64.0    67.0\n",
       "3    Gita  65.0     46.0     98.0    75.0\n",
       "4  Rinku   73.0     47.0      NaN     NaN\n",
       "5  Rockey   NaN      NaN     55.0    70.0"
      ]
     },
     "execution_count": 34,
     "metadata": {},
     "output_type": "execute_result"
    }
   ],
   "source": [
    "mark1.merge(mark2,on = \"Name\" , how = \"outer\")\n"
   ]
  },
  {
   "cell_type": "code",
   "execution_count": 45,
   "id": "74003520-935f-4859-ac56-e156c0cdceda",
   "metadata": {},
   "outputs": [
    {
     "data": {
      "text/html": [
       "<div>\n",
       "<style scoped>\n",
       "    .dataframe tbody tr th:only-of-type {\n",
       "        vertical-align: middle;\n",
       "    }\n",
       "\n",
       "    .dataframe tbody tr th {\n",
       "        vertical-align: top;\n",
       "    }\n",
       "\n",
       "    .dataframe thead th {\n",
       "        text-align: right;\n",
       "    }\n",
       "</style>\n",
       "<table border=\"1\" class=\"dataframe\">\n",
       "  <thead>\n",
       "    <tr style=\"text-align: right;\">\n",
       "      <th></th>\n",
       "      <th>Name</th>\n",
       "      <th>Math</th>\n",
       "      <th>Science</th>\n",
       "      <th>English</th>\n",
       "      <th>Sports</th>\n",
       "    </tr>\n",
       "  </thead>\n",
       "  <tbody>\n",
       "    <tr>\n",
       "      <th>0</th>\n",
       "      <td>Ram</td>\n",
       "      <td>67</td>\n",
       "      <td>45</td>\n",
       "      <td>87.0</td>\n",
       "      <td>46.0</td>\n",
       "    </tr>\n",
       "    <tr>\n",
       "      <th>1</th>\n",
       "      <td>Sham</td>\n",
       "      <td>59</td>\n",
       "      <td>42</td>\n",
       "      <td>56.0</td>\n",
       "      <td>75.0</td>\n",
       "    </tr>\n",
       "    <tr>\n",
       "      <th>2</th>\n",
       "      <td>Sita</td>\n",
       "      <td>87</td>\n",
       "      <td>86</td>\n",
       "      <td>64.0</td>\n",
       "      <td>67.0</td>\n",
       "    </tr>\n",
       "    <tr>\n",
       "      <th>3</th>\n",
       "      <td>Gita</td>\n",
       "      <td>65</td>\n",
       "      <td>46</td>\n",
       "      <td>98.0</td>\n",
       "      <td>75.0</td>\n",
       "    </tr>\n",
       "    <tr>\n",
       "      <th>4</th>\n",
       "      <td>Rinku</td>\n",
       "      <td>73</td>\n",
       "      <td>47</td>\n",
       "      <td>NaN</td>\n",
       "      <td>NaN</td>\n",
       "    </tr>\n",
       "    <tr>\n",
       "      <th>5</th>\n",
       "      <td>Raju</td>\n",
       "      <td>90</td>\n",
       "      <td>67</td>\n",
       "      <td>NaN</td>\n",
       "      <td>NaN</td>\n",
       "    </tr>\n",
       "  </tbody>\n",
       "</table>\n",
       "</div>"
      ],
      "text/plain": [
       "     Name  Math  Science  English  Sports\n",
       "0     Ram    67       45     87.0    46.0\n",
       "1    Sham    59       42     56.0    75.0\n",
       "2    Sita    87       86     64.0    67.0\n",
       "3    Gita    65       46     98.0    75.0\n",
       "4  Rinku     73       47      NaN     NaN\n",
       "5    Raju    90       67      NaN     NaN"
      ]
     },
     "execution_count": 45,
     "metadata": {},
     "output_type": "execute_result"
    }
   ],
   "source": [
    "mark1.merge(mark2,on = \"Name\" , how = \"left\")\n"
   ]
  },
  {
   "cell_type": "code",
   "execution_count": 46,
   "id": "8aca026c-6f17-40a3-b649-41ef9e072577",
   "metadata": {},
   "outputs": [
    {
     "data": {
      "text/html": [
       "<div>\n",
       "<style scoped>\n",
       "    .dataframe tbody tr th:only-of-type {\n",
       "        vertical-align: middle;\n",
       "    }\n",
       "\n",
       "    .dataframe tbody tr th {\n",
       "        vertical-align: top;\n",
       "    }\n",
       "\n",
       "    .dataframe thead th {\n",
       "        text-align: right;\n",
       "    }\n",
       "</style>\n",
       "<table border=\"1\" class=\"dataframe\">\n",
       "  <thead>\n",
       "    <tr style=\"text-align: right;\">\n",
       "      <th></th>\n",
       "      <th>Name</th>\n",
       "      <th>Math</th>\n",
       "      <th>Science</th>\n",
       "      <th>English</th>\n",
       "      <th>Sports</th>\n",
       "    </tr>\n",
       "  </thead>\n",
       "  <tbody>\n",
       "    <tr>\n",
       "      <th>0</th>\n",
       "      <td>Ram</td>\n",
       "      <td>67.0</td>\n",
       "      <td>45.0</td>\n",
       "      <td>87</td>\n",
       "      <td>46</td>\n",
       "    </tr>\n",
       "    <tr>\n",
       "      <th>1</th>\n",
       "      <td>Sham</td>\n",
       "      <td>59.0</td>\n",
       "      <td>42.0</td>\n",
       "      <td>56</td>\n",
       "      <td>75</td>\n",
       "    </tr>\n",
       "    <tr>\n",
       "      <th>2</th>\n",
       "      <td>Sita</td>\n",
       "      <td>87.0</td>\n",
       "      <td>86.0</td>\n",
       "      <td>64</td>\n",
       "      <td>67</td>\n",
       "    </tr>\n",
       "    <tr>\n",
       "      <th>3</th>\n",
       "      <td>Gita</td>\n",
       "      <td>65.0</td>\n",
       "      <td>46.0</td>\n",
       "      <td>98</td>\n",
       "      <td>75</td>\n",
       "    </tr>\n",
       "    <tr>\n",
       "      <th>4</th>\n",
       "      <td>Rockey</td>\n",
       "      <td>NaN</td>\n",
       "      <td>NaN</td>\n",
       "      <td>55</td>\n",
       "      <td>70</td>\n",
       "    </tr>\n",
       "  </tbody>\n",
       "</table>\n",
       "</div>"
      ],
      "text/plain": [
       "     Name  Math  Science  English  Sports\n",
       "0     Ram  67.0     45.0       87      46\n",
       "1    Sham  59.0     42.0       56      75\n",
       "2    Sita  87.0     86.0       64      67\n",
       "3    Gita  65.0     46.0       98      75\n",
       "4  Rockey   NaN      NaN       55      70"
      ]
     },
     "execution_count": 46,
     "metadata": {},
     "output_type": "execute_result"
    }
   ],
   "source": [
    "mark1.merge(mark2,on = \"Name\" , how = \"right\")\n",
    "\n"
   ]
  },
  {
   "cell_type": "code",
   "execution_count": 37,
   "id": "3a33f4c9-19f4-4d42-b460-914f366534aa",
   "metadata": {},
   "outputs": [
    {
     "data": {
      "text/html": [
       "<div>\n",
       "<style scoped>\n",
       "    .dataframe tbody tr th:only-of-type {\n",
       "        vertical-align: middle;\n",
       "    }\n",
       "\n",
       "    .dataframe tbody tr th {\n",
       "        vertical-align: top;\n",
       "    }\n",
       "\n",
       "    .dataframe thead th {\n",
       "        text-align: right;\n",
       "    }\n",
       "</style>\n",
       "<table border=\"1\" class=\"dataframe\">\n",
       "  <thead>\n",
       "    <tr style=\"text-align: right;\">\n",
       "      <th></th>\n",
       "      <th>Name</th>\n",
       "      <th>English</th>\n",
       "      <th>Sports</th>\n",
       "      <th>Math</th>\n",
       "      <th>Science</th>\n",
       "    </tr>\n",
       "  </thead>\n",
       "  <tbody>\n",
       "    <tr>\n",
       "      <th>0</th>\n",
       "      <td>Ram</td>\n",
       "      <td>87</td>\n",
       "      <td>46</td>\n",
       "      <td>67.0</td>\n",
       "      <td>45.0</td>\n",
       "    </tr>\n",
       "    <tr>\n",
       "      <th>1</th>\n",
       "      <td>Sham</td>\n",
       "      <td>56</td>\n",
       "      <td>75</td>\n",
       "      <td>59.0</td>\n",
       "      <td>42.0</td>\n",
       "    </tr>\n",
       "    <tr>\n",
       "      <th>2</th>\n",
       "      <td>Sita</td>\n",
       "      <td>64</td>\n",
       "      <td>67</td>\n",
       "      <td>87.0</td>\n",
       "      <td>86.0</td>\n",
       "    </tr>\n",
       "    <tr>\n",
       "      <th>3</th>\n",
       "      <td>Gita</td>\n",
       "      <td>98</td>\n",
       "      <td>75</td>\n",
       "      <td>65.0</td>\n",
       "      <td>46.0</td>\n",
       "    </tr>\n",
       "    <tr>\n",
       "      <th>4</th>\n",
       "      <td>Rockey</td>\n",
       "      <td>55</td>\n",
       "      <td>70</td>\n",
       "      <td>NaN</td>\n",
       "      <td>NaN</td>\n",
       "    </tr>\n",
       "  </tbody>\n",
       "</table>\n",
       "</div>"
      ],
      "text/plain": [
       "     Name  English  Sports  Math  Science\n",
       "0     Ram       87      46  67.0     45.0\n",
       "1    Sham       56      75  59.0     42.0\n",
       "2    Sita       64      67  87.0     86.0\n",
       "3    Gita       98      75  65.0     46.0\n",
       "4  Rockey       55      70   NaN      NaN"
      ]
     },
     "execution_count": 37,
     "metadata": {},
     "output_type": "execute_result"
    }
   ],
   "source": [
    "mark2.merge(mark1,on = \"Name\" , how = \"left\")\n"
   ]
  },
  {
   "cell_type": "code",
   "execution_count": 47,
   "id": "3175cca6-e129-46e9-99ad-52dcc7809e1f",
   "metadata": {},
   "outputs": [
    {
     "data": {
      "text/html": [
       "<div>\n",
       "<style scoped>\n",
       "    .dataframe tbody tr th:only-of-type {\n",
       "        vertical-align: middle;\n",
       "    }\n",
       "\n",
       "    .dataframe tbody tr th {\n",
       "        vertical-align: top;\n",
       "    }\n",
       "\n",
       "    .dataframe thead th {\n",
       "        text-align: right;\n",
       "    }\n",
       "</style>\n",
       "<table border=\"1\" class=\"dataframe\">\n",
       "  <thead>\n",
       "    <tr style=\"text-align: right;\">\n",
       "      <th></th>\n",
       "      <th>Name</th>\n",
       "      <th>English</th>\n",
       "      <th>Sports</th>\n",
       "      <th>Math</th>\n",
       "      <th>Science</th>\n",
       "    </tr>\n",
       "  </thead>\n",
       "  <tbody>\n",
       "    <tr>\n",
       "      <th>0</th>\n",
       "      <td>Ram</td>\n",
       "      <td>87.0</td>\n",
       "      <td>46.0</td>\n",
       "      <td>67</td>\n",
       "      <td>45</td>\n",
       "    </tr>\n",
       "    <tr>\n",
       "      <th>1</th>\n",
       "      <td>Sham</td>\n",
       "      <td>56.0</td>\n",
       "      <td>75.0</td>\n",
       "      <td>59</td>\n",
       "      <td>42</td>\n",
       "    </tr>\n",
       "    <tr>\n",
       "      <th>2</th>\n",
       "      <td>Sita</td>\n",
       "      <td>64.0</td>\n",
       "      <td>67.0</td>\n",
       "      <td>87</td>\n",
       "      <td>86</td>\n",
       "    </tr>\n",
       "    <tr>\n",
       "      <th>3</th>\n",
       "      <td>Gita</td>\n",
       "      <td>98.0</td>\n",
       "      <td>75.0</td>\n",
       "      <td>65</td>\n",
       "      <td>46</td>\n",
       "    </tr>\n",
       "    <tr>\n",
       "      <th>4</th>\n",
       "      <td>Rinku</td>\n",
       "      <td>NaN</td>\n",
       "      <td>NaN</td>\n",
       "      <td>73</td>\n",
       "      <td>47</td>\n",
       "    </tr>\n",
       "    <tr>\n",
       "      <th>5</th>\n",
       "      <td>Raju</td>\n",
       "      <td>NaN</td>\n",
       "      <td>NaN</td>\n",
       "      <td>90</td>\n",
       "      <td>67</td>\n",
       "    </tr>\n",
       "  </tbody>\n",
       "</table>\n",
       "</div>"
      ],
      "text/plain": [
       "     Name  English  Sports  Math  Science\n",
       "0     Ram     87.0    46.0    67       45\n",
       "1    Sham     56.0    75.0    59       42\n",
       "2    Sita     64.0    67.0    87       86\n",
       "3    Gita     98.0    75.0    65       46\n",
       "4  Rinku       NaN     NaN    73       47\n",
       "5    Raju      NaN     NaN    90       67"
      ]
     },
     "execution_count": 47,
     "metadata": {},
     "output_type": "execute_result"
    }
   ],
   "source": [
    "mark2.merge(mark1,on = \"Name\" , how = \"right\")\n"
   ]
  },
  {
   "cell_type": "code",
   "execution_count": 44,
   "id": "b3eb286c-32ea-457d-b97e-2be5b764faa5",
   "metadata": {},
   "outputs": [
    {
     "data": {
      "text/html": [
       "<div>\n",
       "<style scoped>\n",
       "    .dataframe tbody tr th:only-of-type {\n",
       "        vertical-align: middle;\n",
       "    }\n",
       "\n",
       "    .dataframe tbody tr th {\n",
       "        vertical-align: top;\n",
       "    }\n",
       "\n",
       "    .dataframe thead th {\n",
       "        text-align: right;\n",
       "    }\n",
       "</style>\n",
       "<table border=\"1\" class=\"dataframe\">\n",
       "  <thead>\n",
       "    <tr style=\"text-align: right;\">\n",
       "      <th></th>\n",
       "      <th>Name_left</th>\n",
       "      <th>Math</th>\n",
       "      <th>Science</th>\n",
       "      <th>Name_right</th>\n",
       "      <th>English</th>\n",
       "      <th>Sports</th>\n",
       "    </tr>\n",
       "  </thead>\n",
       "  <tbody>\n",
       "    <tr>\n",
       "      <th>0</th>\n",
       "      <td>Ram</td>\n",
       "      <td>67</td>\n",
       "      <td>45</td>\n",
       "      <td>Ram</td>\n",
       "      <td>87.0</td>\n",
       "      <td>46.0</td>\n",
       "    </tr>\n",
       "    <tr>\n",
       "      <th>1</th>\n",
       "      <td>Sham</td>\n",
       "      <td>59</td>\n",
       "      <td>42</td>\n",
       "      <td>Sham</td>\n",
       "      <td>56.0</td>\n",
       "      <td>75.0</td>\n",
       "    </tr>\n",
       "    <tr>\n",
       "      <th>2</th>\n",
       "      <td>Sita</td>\n",
       "      <td>87</td>\n",
       "      <td>86</td>\n",
       "      <td>Sita</td>\n",
       "      <td>64.0</td>\n",
       "      <td>67.0</td>\n",
       "    </tr>\n",
       "    <tr>\n",
       "      <th>3</th>\n",
       "      <td>Gita</td>\n",
       "      <td>65</td>\n",
       "      <td>46</td>\n",
       "      <td>Gita</td>\n",
       "      <td>98.0</td>\n",
       "      <td>75.0</td>\n",
       "    </tr>\n",
       "    <tr>\n",
       "      <th>4</th>\n",
       "      <td>Rinku</td>\n",
       "      <td>73</td>\n",
       "      <td>47</td>\n",
       "      <td>Rockey</td>\n",
       "      <td>55.0</td>\n",
       "      <td>70.0</td>\n",
       "    </tr>\n",
       "    <tr>\n",
       "      <th>5</th>\n",
       "      <td>Raju</td>\n",
       "      <td>90</td>\n",
       "      <td>67</td>\n",
       "      <td>NaN</td>\n",
       "      <td>NaN</td>\n",
       "      <td>NaN</td>\n",
       "    </tr>\n",
       "  </tbody>\n",
       "</table>\n",
       "</div>"
      ],
      "text/plain": [
       "  Name_left  Math  Science Name_right  English  Sports\n",
       "0       Ram    67       45        Ram     87.0    46.0\n",
       "1      Sham    59       42       Sham     56.0    75.0\n",
       "2      Sita    87       86       Sita     64.0    67.0\n",
       "3      Gita    65       46       Gita     98.0    75.0\n",
       "4    Rinku     73       47     Rockey     55.0    70.0\n",
       "5      Raju    90       67        NaN      NaN     NaN"
      ]
     },
     "execution_count": 44,
     "metadata": {},
     "output_type": "execute_result"
    }
   ],
   "source": [
    "mark1.join(mark2,lsuffix = \"_left\",rsuffix = \"_right\",how =\"outer\")"
   ]
  },
  {
   "cell_type": "code",
   "execution_count": 43,
   "id": "c3b27e37-71cb-4cbe-a5a1-d65520ca1161",
   "metadata": {},
   "outputs": [
    {
     "data": {
      "text/html": [
       "<div>\n",
       "<style scoped>\n",
       "    .dataframe tbody tr th:only-of-type {\n",
       "        vertical-align: middle;\n",
       "    }\n",
       "\n",
       "    .dataframe tbody tr th {\n",
       "        vertical-align: top;\n",
       "    }\n",
       "\n",
       "    .dataframe thead th {\n",
       "        text-align: right;\n",
       "    }\n",
       "</style>\n",
       "<table border=\"1\" class=\"dataframe\">\n",
       "  <thead>\n",
       "    <tr style=\"text-align: right;\">\n",
       "      <th></th>\n",
       "      <th>Name_left</th>\n",
       "      <th>Math</th>\n",
       "      <th>Science</th>\n",
       "      <th>Name_right</th>\n",
       "      <th>English</th>\n",
       "      <th>Sports</th>\n",
       "    </tr>\n",
       "  </thead>\n",
       "  <tbody>\n",
       "    <tr>\n",
       "      <th>0</th>\n",
       "      <td>Ram</td>\n",
       "      <td>67</td>\n",
       "      <td>45</td>\n",
       "      <td>Ram</td>\n",
       "      <td>87</td>\n",
       "      <td>46</td>\n",
       "    </tr>\n",
       "    <tr>\n",
       "      <th>1</th>\n",
       "      <td>Sham</td>\n",
       "      <td>59</td>\n",
       "      <td>42</td>\n",
       "      <td>Sham</td>\n",
       "      <td>56</td>\n",
       "      <td>75</td>\n",
       "    </tr>\n",
       "    <tr>\n",
       "      <th>2</th>\n",
       "      <td>Sita</td>\n",
       "      <td>87</td>\n",
       "      <td>86</td>\n",
       "      <td>Sita</td>\n",
       "      <td>64</td>\n",
       "      <td>67</td>\n",
       "    </tr>\n",
       "    <tr>\n",
       "      <th>3</th>\n",
       "      <td>Gita</td>\n",
       "      <td>65</td>\n",
       "      <td>46</td>\n",
       "      <td>Gita</td>\n",
       "      <td>98</td>\n",
       "      <td>75</td>\n",
       "    </tr>\n",
       "    <tr>\n",
       "      <th>4</th>\n",
       "      <td>Rinku</td>\n",
       "      <td>73</td>\n",
       "      <td>47</td>\n",
       "      <td>Rockey</td>\n",
       "      <td>55</td>\n",
       "      <td>70</td>\n",
       "    </tr>\n",
       "  </tbody>\n",
       "</table>\n",
       "</div>"
      ],
      "text/plain": [
       "  Name_left  Math  Science Name_right  English  Sports\n",
       "0       Ram    67       45        Ram       87      46\n",
       "1      Sham    59       42       Sham       56      75\n",
       "2      Sita    87       86       Sita       64      67\n",
       "3      Gita    65       46       Gita       98      75\n",
       "4    Rinku     73       47     Rockey       55      70"
      ]
     },
     "execution_count": 43,
     "metadata": {},
     "output_type": "execute_result"
    }
   ],
   "source": [
    "mark1.join(mark2,lsuffix = \"_left\",rsuffix = \"_right\",how =\"inner\")"
   ]
  },
  {
   "cell_type": "code",
   "execution_count": null,
   "id": "e3208a16-9716-404b-b158-3f48ddf4846f",
   "metadata": {},
   "outputs": [],
   "source": []
  }
 ],
 "metadata": {
  "kernelspec": {
   "display_name": "Python 3 (ipykernel)",
   "language": "python",
   "name": "python3"
  },
  "language_info": {
   "codemirror_mode": {
    "name": "ipython",
    "version": 3
   },
   "file_extension": ".py",
   "mimetype": "text/x-python",
   "name": "python",
   "nbconvert_exporter": "python",
   "pygments_lexer": "ipython3",
   "version": "3.12.0"
  }
 },
 "nbformat": 4,
 "nbformat_minor": 5
}
