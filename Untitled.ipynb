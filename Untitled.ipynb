{
 "cells": [
  {
   "cell_type": "code",
   "execution_count": 5,
   "id": "74e4d5f6-1dad-4c18-b3fb-fd96dd6b9ceb",
   "metadata": {},
   "outputs": [],
   "source": [
    "from tkinter import*\n",
    "from PIL import Image,ImageTk"
   ]
  },
  {
   "cell_type": "code",
   "execution_count": 4,
   "id": "a5a3e424-1492-4350-8665-72cc6fca59b9",
   "metadata": {},
   "outputs": [],
   "source": [
    "class HotelManagementSystem:\n",
    "    def __init__(self,root):\n",
    "        self.root=root\n",
    "        self.root.title(\"Hospital Mangement system\")\n",
    "        self.root.geometry(\"1550x800+0+0\")\n",
    "\n",
    "\n",
    "\n",
    "        img1=Image.open()\n",
    "\n",
    "\n",
    "\n",
    "if __name__ == \"__main__\":\n",
    "  root=Tk()\n",
    "  obj=HotelManagementSystem(root)\n",
    "  root.mainloop()"
   ]
  },
  {
   "cell_type": "code",
   "execution_count": null,
   "id": "53a84a95-d966-45b5-ae1f-3107a903cd43",
   "metadata": {},
   "outputs": [],
   "source": []
  }
 ],
 "metadata": {
  "kernelspec": {
   "display_name": "Python 3 (ipykernel)",
   "language": "python",
   "name": "python3"
  },
  "language_info": {
   "codemirror_mode": {
    "name": "ipython",
    "version": 3
   },
   "file_extension": ".py",
   "mimetype": "text/x-python",
   "name": "python",
   "nbconvert_exporter": "python",
   "pygments_lexer": "ipython3",
   "version": "3.12.0"
  }
 },
 "nbformat": 4,
 "nbformat_minor": 5
}
